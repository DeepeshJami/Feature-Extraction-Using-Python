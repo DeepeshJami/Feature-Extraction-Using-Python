{
 "cells": [
  {
   "cell_type": "raw",
   "metadata": {},
   "source": [
    "# Feature Extraction Using Python\n",
    "\n",
    "Library used for feature extraction: skimage\n",
    "\n",
    "Dataset used: Cifar10"
   ]
  },
  {
   "cell_type": "code",
   "execution_count": 1,
   "metadata": {},
   "outputs": [],
   "source": [
    "%matplotlib inline\n",
    "import PIL\n",
    "import tqdm\n",
    "import pickle\n",
    "import numpy as np\n",
    "import matplotlib.pyplot as plt\n",
    "from torchvision import datasets\n",
    "from skimage.filters import gabor\n",
    "from skimage.feature import local_binary_pattern, greycomatrix, greycoprops"
   ]
  },
  {
   "cell_type": "markdown",
   "metadata": {},
   "source": [
    "# Downloading dataset"
   ]
  },
  {
   "cell_type": "code",
   "execution_count": 2,
   "metadata": {},
   "outputs": [
    {
     "name": "stdout",
     "output_type": "stream",
     "text": [
      "Downloading https://www.cs.toronto.edu/~kriz/cifar-10-python.tar.gz to ./cifar10/cifar-10-python.tar.gz\n"
     ]
    },
    {
     "data": {
      "application/vnd.jupyter.widget-view+json": {
       "model_id": "f94d338d144445e78ebdf29d6de1241b",
       "version_major": 2,
       "version_minor": 0
      },
      "text/plain": [
       "HBox(children=(IntProgress(value=1, bar_style='info', max=1), HTML(value='')))"
      ]
     },
     "metadata": {},
     "output_type": "display_data"
    },
    {
     "name": "stdout",
     "output_type": "stream",
     "text": [
      "Extracting ./cifar10/cifar-10-python.tar.gz to ./cifar10/\n",
      "Files already downloaded and verified\n"
     ]
    }
   ],
   "source": [
    "trainDset =  datasets.CIFAR10('./cifar10/', train=True, download=True) \n",
    "testDset =  datasets.CIFAR10('./cifar10/', train=False, download=True)"
   ]
  },
  {
   "cell_type": "code",
   "execution_count": 3,
   "metadata": {},
   "outputs": [
    {
     "name": "stdout",
     "output_type": "stream",
     "text": [
      "No. of samples in train set: 50000\n",
      "No. of samples in test set: 10000\n"
     ]
    }
   ],
   "source": [
    "# Size of train and test datasets\n",
    "print('No. of samples in train set: '+str(len(trainDset)))\n",
    "print('No. of samples in test set: '+str(len(testDset)))"
   ]
  },
  {
   "cell_type": "code",
   "execution_count": 4,
   "metadata": {},
   "outputs": [
    {
     "data": {
      "text/plain": [
       "<matplotlib.image.AxesImage at 0x1ad37371508>"
      ]
     },
     "execution_count": 4,
     "metadata": {},
     "output_type": "execute_result"
    },
    {
     "data": {
      "image/png": "[encoded data removed]",
      "text/plain": [
       "<Figure size 432x288 with 1 Axes>"
      ]
     },
     "metadata": {
      "needs_background": "light"
     },
     "output_type": "display_data"
    }
   ],
   "source": [
    "# Feature extraction on single image\n",
    "img = trainDset[0][0] #PIL image\n",
    "img_gray = img.convert('L') #Converting to grayscale\n",
    "img_arr = np.array(img_gray) #Converting to array\n",
    "plt.imshow(img)"
   ]
  },
  {
   "cell_type": "markdown",
   "metadata": {},
   "source": [
    "# LBP"
   ]
  },
  {
   "cell_type": "code",
   "execution_count": 5,
   "metadata": {},
   "outputs": [
    {
     "data": {
      "text/plain": [
       "<matplotlib.image.AxesImage at 0x1ad37359ac8>"
      ]
     },
     "execution_count": 5,
     "metadata": {},
     "output_type": "execute_result"
    },
    {
     "data": {
      "image/png": "[encoded data removed]",
      "text/plain": [
       "<Figure size 432x288 with 1 Axes>"
      ]
     },
     "metadata": {
      "needs_background": "light"
     },
     "output_type": "display_data"
    }
   ],
   "source": [
    "# Finding LBP\n",
    "feat_lbp = local_binary_pattern(img_arr,8,1,'uniform') #Radius = 1, No. of neighbours = 8\n",
    "feat_lbp = np.uint8((feat_lbp/feat_lbp.max())*255) #Converting to unit8\n",
    "lbp_img = PIL.Image.fromarray(feat_lbp) #Conversion from array to PIL image\n",
    "plt.imshow(lbp_img,cmap='gray') #Displaying LBP"
   ]
  },
  {
   "cell_type": "code",
   "execution_count": 6,
   "metadata": {},
   "outputs": [
    {
     "name": "stdout",
     "output_type": "stream",
     "text": [
      "LBP energy = 0.14321517944335938\n",
      "LBP entropy = 2.8958499002961196\n",
      "LBP energy = 0.14321517944335938\n",
      "LBP entropy = 2.8958499002961196\n"
     ]
    }
   ],
   "source": [
    "# Energy and Entropy of LBP feature\n",
    "lbp_hist,_ = np.histogram(feat_lbp,8)\n",
    "lbp_hist = np.array(lbp_hist,dtype=float)\n",
    "lbp_prob = np.divide(lbp_hist,np.sum(lbp_hist))\n",
    "lbp_energy = np.sum(lbp_prob**2)\n",
    "lbp_entropy = -np.sum(np.multiply(lbp_prob,np.log2(lbp_prob)))\n",
    "print('LBP energy = '+str(lbp_energy))\n",
    "print('LBP entropy = '+str(lbp_entropy))# Energy and Entropy of LBP feature\n",
    "lbp_hist,_ = np.histogram(feat_lbp,8)\n",
    "lbp_hist = np.array(lbp_hist,dtype=float)\n",
    "lbp_prob = np.divide(lbp_hist,np.sum(lbp_hist))\n",
    "lbp_energy = np.sum(lbp_prob**2)\n",
    "lbp_entropy = -np.sum(np.multiply(lbp_prob,np.log2(lbp_prob)))\n",
    "print('LBP energy = '+str(lbp_energy))\n",
    "print('LBP entropy = '+str(lbp_entropy))"
   ]
  },
  {
   "cell_type": "markdown",
   "metadata": {},
   "source": [
    "# Co - Occurance Matrix"
   ]
  },
  {
   "cell_type": "code",
   "execution_count": 7,
   "metadata": {},
   "outputs": [
    {
     "name": "stdout",
     "output_type": "stream",
     "text": [
      "Contrast = 1296.0104166666665\n",
      "Dissimilarity = 24.224999999999998\n",
      "Homogeneity = 0.0626337793073455\n",
      "Energy = 0.02654717695286387\n",
      "Correlation = 0.6126460425663798\n"
     ]
    }
   ],
   "source": [
    "# Finding GLCM features from co-occurance matrix\n",
    "gCoMat = greycomatrix(img_arr, [2], [0],256,symmetric=True, normed=True) # Co-occurance matrix\n",
    "contrast = greycoprops(gCoMat, prop='contrast')\n",
    "dissimilarity = greycoprops(gCoMat, prop='dissimilarity')\n",
    "homogeneity = greycoprops(gCoMat, prop='homogeneity')\n",
    "energy = greycoprops(gCoMat, prop='energy')\n",
    "correlation = greycoprops(gCoMat, prop='correlation')\n",
    "print('Contrast = '+str(contrast[0][0]))\n",
    "print('Dissimilarity = '+str(dissimilarity[0][0]))\n",
    "print('Homogeneity = '+str(homogeneity[0][0]))\n",
    "print('Energy = '+str(energy[0][0]))\n",
    "print('Correlation = '+str(correlation[0][0]))"
   ]
  },
  {
   "cell_type": "markdown",
   "metadata": {},
   "source": [
    "# Gabor Filter"
   ]
  },
  {
   "cell_type": "code",
   "execution_count": 8,
   "metadata": {},
   "outputs": [
    {
     "data": {
      "text/plain": [
       "<matplotlib.image.AxesImage at 0x1ad37453408>"
      ]
     },
     "execution_count": 8,
     "metadata": {},
     "output_type": "execute_result"
    },
    {
     "data": {
      "image/png": "[encoded data removed]",
      "text/plain": [
       "<Figure size 432x288 with 3 Axes>"
      ]
     },
     "metadata": {
      "needs_background": "light"
     },
     "output_type": "display_data"
    }
   ],
   "source": [
    "# Gabor filter\n",
    "gaborFilt_real,gaborFilt_imag = gabor(img_arr,frequency=0.6)\n",
    "gaborFilt = (gaborFilt_real**2+gaborFilt_imag**2)//2\n",
    "# Displaying the filter response\n",
    "fig, ax = plt.subplots(1,3)    \n",
    "ax[0].imshow(gaborFilt_real,cmap='gray')\n",
    "ax[1].imshow(gaborFilt_imag,cmap='gray')\n",
    "ax[2].imshow(gaborFilt,cmap='gray')"
   ]
  },
  {
   "cell_type": "code",
   "execution_count": 9,
   "metadata": {},
   "outputs": [
    {
     "name": "stdout",
     "output_type": "stream",
     "text": [
      "Gabor energy = 0.2469921112060547\n",
      "Gabor entropy = 2.357696484594805\n"
     ]
    }
   ],
   "source": [
    "# Energy and Entropy of Gabor filter response\n",
    "gabor_hist,_ = np.histogram(gaborFilt,8)\n",
    "gabor_hist = np.array(gabor_hist,dtype=float)\n",
    "gabor_prob = np.divide(gabor_hist,np.sum(gabor_hist))\n",
    "gabor_energy = np.sum(gabor_prob**2)\n",
    "gabor_entropy = -np.sum(np.multiply(gabor_prob,np.log2(gabor_prob)))\n",
    "print('Gabor energy = '+str(gabor_energy))\n",
    "print('Gabor entropy = '+str(gabor_entropy))"
   ]
  },
  {
   "cell_type": "markdown",
   "metadata": {},
   "source": [
    "# Extracting features from all images in the dataset"
   ]
  },
  {
   "cell_type": "code",
   "execution_count": 10,
   "metadata": {},
   "outputs": [
    {
     "data": {
      "application/vnd.jupyter.widget-view+json": {
       "model_id": "d3a50453fea94c67b2cb72307c739e70",
       "version_major": 2,
       "version_minor": 0
      },
      "text/plain": [
       "HBox(children=(IntProgress(value=0, max=50000), HTML(value='')))"
      ]
     },
     "metadata": {},
     "output_type": "display_data"
    },
    {
     "name": "stderr",
     "output_type": "stream",
     "text": [
      "C:\\Users\\Deepesh\\Anaconda3\\lib\\site-packages\\ipykernel_launcher.py:16: RuntimeWarning: divide by zero encountered in log2\n",
      "  app.launch_new_instance()\n",
      "C:\\Users\\Deepesh\\Anaconda3\\lib\\site-packages\\ipykernel_launcher.py:16: RuntimeWarning: invalid value encountered in multiply\n",
      "  app.launch_new_instance()\n",
      "C:\\Users\\Deepesh\\Anaconda3\\lib\\site-packages\\ipykernel_launcher.py:32: RuntimeWarning: divide by zero encountered in log2\n",
      "C:\\Users\\Deepesh\\Anaconda3\\lib\\site-packages\\ipykernel_launcher.py:32: RuntimeWarning: invalid value encountered in multiply\n"
     ]
    },
    {
     "name": "stdout",
     "output_type": "stream",
     "text": [
      "\n"
     ]
    }
   ],
   "source": [
    "# Generating training data by extracting features from all images\n",
    "label = []\n",
    "featLength = 2+5+2\n",
    "trainFeats = np.zeros((len(trainDset),featLength)) #Feature vector of each image is of size 1x1030\n",
    "for tr in tqdm.tqdm_notebook(range(len(trainDset))):\n",
    "\n",
    "    img = trainDset[tr][0] #One image at a time\n",
    "    img_gray = img.convert('L') #Converting to grayscale\n",
    "    img_arr = np.array(img_gray.getdata()).reshape(img.size[1],img.size[0]) #Converting to array\n",
    "    # LBP\n",
    "    feat_lbp = local_binary_pattern(img_arr,5,2,'uniform').reshape(img.size[0]*img.size[1])\n",
    "    lbp_hist,_ = np.histogram(feat_lbp,8)\n",
    "    lbp_hist = np.array(lbp_hist,dtype=float)\n",
    "    lbp_prob = np.divide(lbp_hist,np.sum(lbp_hist))\n",
    "    lbp_energy = np.nansum(lbp_prob**2)\n",
    "    lbp_entropy = -np.nansum(np.multiply(lbp_prob,np.log2(lbp_prob)))   \n",
    "    # GLCM\n",
    "    gCoMat = greycomatrix(img_arr, [2], [0],256,symmetric=True, normed=True)\n",
    "    contrast = greycoprops(gCoMat, prop='contrast')\n",
    "    dissimilarity = greycoprops(gCoMat, prop='dissimilarity')\n",
    "    homogeneity = greycoprops(gCoMat, prop='homogeneity')    \n",
    "    energy = greycoprops(gCoMat, prop='energy')\n",
    "    correlation = greycoprops(gCoMat, prop='correlation')    \n",
    "    feat_glcm = np.array([contrast[0][0],dissimilarity[0][0],homogeneity[0][0],energy[0][0],correlation[0][0]])\n",
    "    # Gabor filter\n",
    "    gaborFilt_real,gaborFilt_imag = gabor(img_arr,frequency=0.6)\n",
    "    gaborFilt = (gaborFilt_real**2+gaborFilt_imag**2)//2\n",
    "    gabor_hist,_ = np.histogram(gaborFilt,8)\n",
    "    gabor_hist = np.array(gabor_hist,dtype=float)\n",
    "    gabor_prob = np.divide(gabor_hist,np.sum(gabor_hist))\n",
    "    gabor_energy = np.nansum(gabor_prob**2)\n",
    "    gabor_entropy = -np.nansum(np.multiply(gabor_prob,np.log2(gabor_prob)))\n",
    "    # Concatenating features(2+5+2)    \n",
    "    concat_feat = np.concatenate(([lbp_energy,lbp_entropy],feat_glcm,[gabor_energy,gabor_entropy]),axis=0)\n",
    "    trainFeats[tr,:] = concat_feat #Stacking features vectors for each image\n",
    "    # Class label\n",
    "    label.append(trainDset[tr][1])\n",
    "trainLabel = np.array(label) #Conversion from list to array"
   ]
  },
  {
   "cell_type": "code",
   "execution_count": 11,
   "metadata": {},
   "outputs": [
    {
     "data": {
      "application/vnd.jupyter.widget-view+json": {
       "model_id": "15f8fd022f8b4f338b12483e50f1152b",
       "version_major": 2,
       "version_minor": 0
      },
      "text/plain": [
       "HBox(children=(IntProgress(value=0, max=10000), HTML(value='')))"
      ]
     },
     "metadata": {},
     "output_type": "display_data"
    },
    {
     "name": "stderr",
     "output_type": "stream",
     "text": [
      "C:\\Users\\Deepesh\\Anaconda3\\lib\\site-packages\\ipykernel_launcher.py:15: RuntimeWarning: divide by zero encountered in log2\n",
      "  from ipykernel import kernelapp as app\n",
      "C:\\Users\\Deepesh\\Anaconda3\\lib\\site-packages\\ipykernel_launcher.py:15: RuntimeWarning: invalid value encountered in multiply\n",
      "  from ipykernel import kernelapp as app\n",
      "C:\\Users\\Deepesh\\Anaconda3\\lib\\site-packages\\ipykernel_launcher.py:31: RuntimeWarning: divide by zero encountered in log2\n",
      "C:\\Users\\Deepesh\\Anaconda3\\lib\\site-packages\\ipykernel_launcher.py:31: RuntimeWarning: invalid value encountered in multiply\n"
     ]
    },
    {
     "name": "stdout",
     "output_type": "stream",
     "text": [
      "\n"
     ]
    }
   ],
   "source": [
    "# Generating testing data by extracting features from all images\n",
    "label = []\n",
    "testFeats = np.zeros((len(testDset),featLength)) #Feature vector of each image is of size 1x1030\n",
    "for ts in tqdm.tqdm_notebook(range(len(testDset))):\n",
    "    \n",
    "    img = testDset[ts][0] #One image at a time\n",
    "    img_gray = img.convert('L') #Converting to grayscale\n",
    "    img_arr = np.array(img_gray.getdata()).reshape(img.size[1],img.size[0]) #Converting to array\n",
    "    # LBP\n",
    "    feat_lbp = local_binary_pattern(img_arr,5,2,'uniform').reshape(img.size[0]*img.size[1])\n",
    "    lbp_hist,_ = np.histogram(feat_lbp,8)\n",
    "    lbp_hist = np.array(lbp_hist,dtype=float)\n",
    "    lbp_prob = np.divide(lbp_hist,np.sum(lbp_hist))\n",
    "    lbp_energy = np.nansum(lbp_prob**2)\n",
    "    lbp_entropy = -np.nansum(np.multiply(lbp_prob,np.log2(lbp_prob)))\n",
    "    # GLCM\n",
    "    gCoMat = greycomatrix(img_arr, [2], [0],256,symmetric=True, normed=True)\n",
    "    contrast = greycoprops(gCoMat, prop='contrast')\n",
    "    dissimilarity = greycoprops(gCoMat, prop='dissimilarity')\n",
    "    homogeneity = greycoprops(gCoMat, prop='homogeneity')    \n",
    "    energy = greycoprops(gCoMat, prop='energy')\n",
    "    correlation = greycoprops(gCoMat, prop='correlation')    \n",
    "    feat_glcm = np.array([contrast[0][0],dissimilarity[0][0],homogeneity[0][0],energy[0][0],correlation[0][0]])\n",
    "    # Gabor filter\n",
    "    gaborFilt_real,gaborFilt_imag = gabor(img_arr,frequency=0.6)\n",
    "    gaborFilt = (gaborFilt_real**2+gaborFilt_imag**2)//2\n",
    "    gabor_hist,_ = np.histogram(gaborFilt,8)\n",
    "    gabor_hist = np.array(gabor_hist,dtype=float)\n",
    "    gabor_prob = np.divide(gabor_hist,np.sum(gabor_hist))\n",
    "    gabor_energy = np.nansum(gabor_prob**2)\n",
    "    gabor_entropy = -np.nansum(np.multiply(gabor_prob,np.log2(gabor_prob)))\n",
    "    # Concatenating features(2+5+2)    \n",
    "    concat_feat = np.concatenate(([lbp_energy,lbp_entropy],feat_glcm,[gabor_energy,gabor_entropy]),axis=0)    \n",
    "    testFeats[ts,:] = concat_feat  #Stacking features vectors for each image\n",
    "    # Class label\n",
    "    label.append(testDset[ts][1])\n",
    "testLabel = np.array(label)"
   ]
  },
  {
   "cell_type": "markdown",
   "metadata": {},
   "source": [
    "# Feature normalization"
   ]
  },
  {
   "cell_type": "code",
   "execution_count": 12,
   "metadata": {},
   "outputs": [],
   "source": [
    "# Normalizing the train features to the range [0,1]\n",
    "trMaxs = np.amax(trainFeats,axis=0) #Finding maximum along each column\n",
    "trMins = np.amin(trainFeats,axis=0) #Finding maximum along each column\n",
    "trMaxs_rep = np.tile(trMaxs,(50000,1)) #Repeating the maximum value along the rows\n",
    "trMins_rep = np.tile(trMins,(50000,1)) #Repeating the minimum value along the rows\n",
    "trainFeatsNorm = np.divide(trainFeats-trMins_rep,trMaxs_rep) #Element-wise division\n",
    "# Normalizing the test features\n",
    "tsMaxs_rep = np.tile(trMaxs,(10000,1)) #Repeating the maximum value along the rows\n",
    "tsMins_rep = np.tile(trMins,(10000,1)) #Repeating the maximum value along the rows\n",
    "testFeatsNorm = np.divide(testFeats-tsMins_rep,tsMaxs_rep) #Element-wise division"
   ]
  },
  {
   "cell_type": "markdown",
   "metadata": {},
   "source": [
    "# Saving feature matrices to disk"
   ]
  },
  {
   "cell_type": "code",
   "execution_count": 13,
   "metadata": {},
   "outputs": [
    {
     "name": "stdout",
     "output_type": "stream",
     "text": [
      "Files saved to disk!\n"
     ]
    }
   ],
   "source": [
    "# Saving normalized training data and labels\n",
    "with open(\"trainFeats.pckl\", \"wb\") as f:\n",
    "    pickle.dump(trainFeatsNorm, f)\n",
    "with open(\"trainLabel.pckl\", \"wb\") as f:\n",
    "    pickle.dump(trainLabel, f)\n",
    "    \n",
    "# Saving normalized testing data and labels\n",
    "with open(\"testFeats.pckl\", \"wb\") as f:\n",
    "    pickle.dump(testFeatsNorm, f)\n",
    "with open(\"testLabel.pckl\", \"wb\") as f:\n",
    "    pickle.dump(testLabel, f)\n",
    "    \n",
    "print('Files saved to disk!')"
   ]
  },
  {
   "cell_type": "code",
   "execution_count": null,
   "metadata": {},
   "outputs": [],
   "source": []
  }
 ],
 "metadata": {
  "kernelspec": {
   "display_name": "Python 3",
   "language": "python",
   "name": "python3"
  },
  "language_info": {
   "codemirror_mode": {
    "name": "ipython",
    "version": 3
   },
   "file_extension": ".py",
   "mimetype": "text/x-python",
   "name": "python",
   "nbconvert_exporter": "python",
   "pygments_lexer": "ipython3",
   "version": "3.7.4"
  }
 },
 "nbformat": 4,
 "nbformat_minor": 2
}
